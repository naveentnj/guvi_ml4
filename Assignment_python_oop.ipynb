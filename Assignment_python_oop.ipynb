{
  "nbformat": 4,
  "nbformat_minor": 0,
  "metadata": {
    "colab": {
      "provenance": [],
      "authorship_tag": "ABX9TyMq1NkJ87gHBFLTC+hNOGB7",
      "include_colab_link": true
    },
    "kernelspec": {
      "name": "python3",
      "display_name": "Python 3"
    },
    "language_info": {
      "name": "python"
    }
  },
  "cells": [
    {
      "cell_type": "markdown",
      "metadata": {
        "id": "view-in-github",
        "colab_type": "text"
      },
      "source": [
        "<a href=\"https://colab.research.google.com/github/naveentnj/guvi_ml4/blob/main/Assignment_python_oop.ipynb\" target=\"_parent\"><img src=\"https://colab.research.google.com/assets/colab-badge.svg\" alt=\"Open In Colab\"/></a>"
      ]
    },
    {
      "cell_type": "code",
      "execution_count": 1,
      "metadata": {
        "colab": {
          "base_uri": "https://localhost:8080/"
        },
        "id": "YQ9Hl7JwZinW",
        "outputId": "f9766406-2a8b-4bfd-ca63-c7f6a60ca9d7"
      },
      "outputs": [
        {
          "output_type": "stream",
          "name": "stdout",
          "text": [
            "hello_world\n"
          ]
        }
      ],
      "source": [
        "print(\"hello_world\")"
      ]
    },
    {
      "cell_type": "code",
      "source": [
        "#base class\n",
        "class Vehicle():\n",
        "\n",
        "  def vehicle_f(self):\n",
        "    print(\"calling from vehicle\")\n",
        "  \n",
        "  def __init__(self):\n",
        "    print(\"init from v\")\n",
        "    self.max_speed = 100\n",
        "    self.engine_power = \"400cc\"\n",
        "\n",
        "class Car(Vehicle):\n",
        "  wheels = 4\n",
        "  #function overriding\n",
        "  def vehicle_f(self):\n",
        "    super().vehicle_f()\n",
        "    s = \" and it has seatbelt \"  if self.hasSeatBelts else \"it doesn't has seatbetls\"\n",
        "    print(\"calling from car with max\",self.max_speed,Car.wheels,\"wheels\",s)\n",
        "  \n",
        "  def __init__(self,hasSeatBelts):\n",
        "    super().__init__()\n",
        "    self.hasSeatBelts = hasSeatBelts\n",
        "\n",
        "class Bike(Vehicle):\n",
        "  wheels = 2\n",
        "  def vehicle_f(self):\n",
        "    super().vehicle_f()\n",
        "    print(\"calling from bike\")\n",
        "  \n",
        "  def __init__(self):\n",
        "    super().__init__()\n",
        "    #self.max_speed = 100\n",
        "    #self.engine_power = \"400cc\"\n",
        "    self.max_speed = 120\n",
        "    \n",
        "car1 = Car(True)\n",
        "\n",
        "car1.vehicle_f()\n",
        "\n",
        "car2 = Car(False)\n",
        "\n",
        "car2.vehicle_f()\n",
        "\n",
        "\n",
        "bike1 = Bike()\n",
        "\n",
        "bike1.vehicle_f()\n",
        "\n",
        "print(bike1.max_speed)\n"
      ],
      "metadata": {
        "id": "WKLdm6eyhYDu"
      },
      "execution_count": null,
      "outputs": []
    }
  ]
}